{
 "cells": [
  {
   "cell_type": "code",
   "execution_count": 1,
   "metadata": {},
   "outputs": [
    {
     "name": "stdout",
     "output_type": "stream",
     "text": [
      "Requirement already satisfied: pandas in /Library/Frameworks/Python.framework/Versions/3.11/lib/python3.11/site-packages (2.2.1)\n",
      "Requirement already satisfied: numpy<2,>=1.23.2 in /Library/Frameworks/Python.framework/Versions/3.11/lib/python3.11/site-packages (from pandas) (1.26.4)\n",
      "Requirement already satisfied: python-dateutil>=2.8.2 in /Library/Frameworks/Python.framework/Versions/3.11/lib/python3.11/site-packages (from pandas) (2.9.0.post0)\n",
      "Requirement already satisfied: pytz>=2020.1 in /Library/Frameworks/Python.framework/Versions/3.11/lib/python3.11/site-packages (from pandas) (2024.1)\n",
      "Requirement already satisfied: tzdata>=2022.7 in /Library/Frameworks/Python.framework/Versions/3.11/lib/python3.11/site-packages (from pandas) (2024.1)\n",
      "Requirement already satisfied: six>=1.5 in /Library/Frameworks/Python.framework/Versions/3.11/lib/python3.11/site-packages (from python-dateutil>=2.8.2->pandas) (1.16.0)\n",
      "Requirement already satisfied: requests in /Library/Frameworks/Python.framework/Versions/3.11/lib/python3.11/site-packages (2.31.0)\n",
      "Requirement already satisfied: charset-normalizer<4,>=2 in /Library/Frameworks/Python.framework/Versions/3.11/lib/python3.11/site-packages (from requests) (3.3.2)\n",
      "Requirement already satisfied: idna<4,>=2.5 in /Library/Frameworks/Python.framework/Versions/3.11/lib/python3.11/site-packages (from requests) (3.6)\n",
      "Requirement already satisfied: urllib3<3,>=1.21.1 in /Library/Frameworks/Python.framework/Versions/3.11/lib/python3.11/site-packages (from requests) (2.2.1)\n",
      "Requirement already satisfied: certifi>=2017.4.17 in /Library/Frameworks/Python.framework/Versions/3.11/lib/python3.11/site-packages (from requests) (2024.2.2)\n",
      "Requirement already satisfied: plyer in /Library/Frameworks/Python.framework/Versions/3.11/lib/python3.11/site-packages (2.1.0)\n"
     ]
    }
   ],
   "source": [
    "! pip install pandas\n",
    "! pip install requests\n",
    "! pip install plyer \n"
   ]
  },
  {
   "cell_type": "code",
   "execution_count": 2,
   "metadata": {},
   "outputs": [],
   "source": [
    "import pandas as pd\n",
    "import requests as rq\n",
    "import plyer \n",
    "import datetime"
   ]
  },
  {
   "cell_type": "code",
   "execution_count": 3,
   "metadata": {},
   "outputs": [],
   "source": [
    "def error(error_message):\n",
    "    current_date = datetime.datetime.now().strftime(\"%Y-%m-%d %H:%M:%S\")\n",
    "    message = f'{error_message} {current_date}'\n",
    "    plyer.notification.notify(\n",
    "        title='Error',\n",
    "        message=message,\n",
    "        app_name=\"Alerta\"\n",
    "    )"
   ]
  },
  {
   "cell_type": "code",
   "execution_count": 4,
   "metadata": {},
   "outputs": [],
   "source": [
    "def get_responde(response):\n",
    "    response = rq.get(url)\n",
    "    if response.status_code == 200:\n",
    "        data_json = response.json()\n",
    "        return data_json\n",
    "    else:\n",
    "        error('Tabela nao encontrada')"
   ]
  },
  {
   "cell_type": "code",
   "execution_count": 5,
   "metadata": {},
   "outputs": [],
   "source": [
    "def get_tables(url):\n",
    "    response = get_responde(url)\n",
    "    return response"
   ]
  },
  {
   "attachments": {},
   "cell_type": "markdown",
   "metadata": {},
   "source": [
    "Tabela paises lingua Inglesa\n"
   ]
  },
  {
   "cell_type": "code",
   "execution_count": 39,
   "metadata": {},
   "outputs": [
    {
     "name": "stdout",
     "output_type": "stream",
     "text": [
      "                             country             capital      area  population\n",
      "0                            Eritrea            [Asmara]  117600.0     5352000\n",
      "1                            Liberia          [Monrovia]  111369.0     5057677\n",
      "2                          Singapore         [Singapore]     710.0     5685807\n",
      "3           Turks and Caicos Islands     [Cockburn Town]     948.0       38718\n",
      "4                            Bermuda          [Hamilton]      54.0       63903\n",
      "..                               ...                 ...       ...         ...\n",
      "86  Saint Vincent and the Grenadines         [Kingstown]     389.0      110947\n",
      "87                      Sierra Leone          [Freetown]   71740.0     7976985\n",
      "88                        Micronesia           [Palikir]     702.0      115021\n",
      "89                          Dominica            [Roseau]     751.0       71991\n",
      "90                         Hong Kong  [City of Victoria]    1104.0     7500700\n",
      "\n",
      "[91 rows x 4 columns]\n"
     ]
    }
   ],
   "source": [
    "url = 'https://restcountries.com/v3.1/lang/english?limit=14'\n",
    "table = get_tables(url)\n",
    "lang_df = pd.DataFrame(table)\n",
    "lang_df['country'] = lang_df['name'].apply(lambda x: x['common'])\n",
    "lang_df = lang_df[['country', 'capital', 'area', 'population']]\n",
    "df_filled = lang_df.fillna('')\n",
    "print(lang_df)"
   ]
  },
  {
   "attachments": {},
   "cell_type": "markdown",
   "metadata": {},
   "source": [
    "Aplicando Stack e Filtro\n"
   ]
  },
  {
   "cell_type": "code",
   "execution_count": 42,
   "metadata": {},
   "outputs": [
    {
     "name": "stdout",
     "output_type": "stream",
     "text": [
      "           country                              capital       area  population\n",
      "16  United Kingdom                             [London]   242900.0    67215293\n",
      "19    South Africa  [Pretoria, Bloemfontein, Cape Town]  1221037.0    59308690\n",
      "24           Kenya                            [Nairobi]   580367.0    53771300\n",
      "30   United States                   [Washington, D.C.]  9372610.0   329484123\n",
      "42        Tanzania                             [Dodoma]   945087.0    59734213\n",
      "43         Nigeria                              [Abuja]   923768.0   206139587\n",
      "53           India                          [New Delhi]  3287590.0  1380004385\n",
      "67     Philippines                             [Manila]   342353.0   109581085\n",
      "72        Pakistan                          [Islamabad]   881912.0   220892331\n",
      "            country       \n",
      "capital     United Kingdom                               [London]\n",
      "            South Africa      [Pretoria, Bloemfontein, Cape Town]\n",
      "            Kenya                                       [Nairobi]\n",
      "            United States                      [Washington, D.C.]\n",
      "            Tanzania                                     [Dodoma]\n",
      "            Nigeria                                       [Abuja]\n",
      "            India                                     [New Delhi]\n",
      "            Philippines                                  [Manila]\n",
      "            Pakistan                                  [Islamabad]\n",
      "area        United Kingdom                               242900.0\n",
      "            South Africa                                1221037.0\n",
      "            Kenya                                        580367.0\n",
      "            United States                               9372610.0\n",
      "            Tanzania                                     945087.0\n",
      "            Nigeria                                      923768.0\n",
      "            India                                       3287590.0\n",
      "            Philippines                                  342353.0\n",
      "            Pakistan                                     881912.0\n",
      "population  United Kingdom                               67215293\n",
      "            South Africa                                 59308690\n",
      "            Kenya                                        53771300\n",
      "            United States                               329484123\n",
      "            Tanzania                                     59734213\n",
      "            Nigeria                                     206139587\n",
      "            India                                      1380004385\n",
      "            Philippines                                 109581085\n",
      "            Pakistan                                    220892331\n",
      "dtype: object\n"
     ]
    }
   ],
   "source": [
    "lang_df_filtered = lang_df[lang_df['population'] > 50000000]\n",
    "print(lang_df_filtered)\n",
    "lang_df_unstacked = lang_df_filtered.set_index('country').unstack()\n",
    "print(lang_df_unstacked)"
   ]
  },
  {
   "cell_type": "code",
   "execution_count": 47,
   "metadata": {},
   "outputs": [
    {
     "name": "stderr",
     "output_type": "stream",
     "text": [
      "Traceback (most recent call last):\n",
      "  File \"/Library/Frameworks/Python.framework/Versions/3.11/lib/python3.11/site-packages/plyer/utils.py\", line 96, in _ensure_obj\n",
      "    mod = __import__(module, fromlist='.')\n",
      "          ^^^^^^^^^^^^^^^^^^^^^^^^^^^^^^^^\n",
      "  File \"/Library/Frameworks/Python.framework/Versions/3.11/lib/python3.11/site-packages/plyer/platforms/macosx/notification.py\", line 7, in <module>\n",
      "    from pyobjus import (\n",
      "ModuleNotFoundError: No module named 'pyobjus'\n"
     ]
    },
    {
     "ename": "NotImplementedError",
     "evalue": "No usable implementation found!",
     "output_type": "error",
     "traceback": [
      "\u001b[0;31m---------------------------------------------------------------------------\u001b[0m",
      "\u001b[0;31mNotImplementedError\u001b[0m                       Traceback (most recent call last)",
      "Cell \u001b[0;32mIn[47], line 2\u001b[0m\n\u001b[1;32m      1\u001b[0m url \u001b[39m=\u001b[39m \u001b[39m'\u001b[39m\u001b[39mhttps://restcountries.com/v3.1/capital\u001b[39m\u001b[39m'\u001b[39m\n\u001b[0;32m----> 2\u001b[0m table \u001b[39m=\u001b[39m get_tables(url)\n\u001b[1;32m      3\u001b[0m capital_df \u001b[39m=\u001b[39m pd\u001b[39m.\u001b[39mDataFrame(table)\n\u001b[1;32m      4\u001b[0m capital_df[\u001b[39m'\u001b[39m\u001b[39mcountry\u001b[39m\u001b[39m'\u001b[39m] \u001b[39m=\u001b[39m capital_df[\u001b[39m'\u001b[39m\u001b[39mname\u001b[39m\u001b[39m'\u001b[39m]\u001b[39m.\u001b[39mapply(\u001b[39mlambda\u001b[39;00m x: x[\u001b[39m'\u001b[39m\u001b[39mcommon\u001b[39m\u001b[39m'\u001b[39m])\n",
      "Cell \u001b[0;32mIn[5], line 2\u001b[0m, in \u001b[0;36mget_tables\u001b[0;34m(url)\u001b[0m\n\u001b[1;32m      1\u001b[0m \u001b[39mdef\u001b[39;00m \u001b[39mget_tables\u001b[39m(url):\n\u001b[0;32m----> 2\u001b[0m     response \u001b[39m=\u001b[39m get_responde(url)\n\u001b[1;32m      3\u001b[0m     \u001b[39mreturn\u001b[39;00m response\n",
      "Cell \u001b[0;32mIn[4], line 7\u001b[0m, in \u001b[0;36mget_responde\u001b[0;34m(response)\u001b[0m\n\u001b[1;32m      5\u001b[0m     \u001b[39mreturn\u001b[39;00m data_json\n\u001b[1;32m      6\u001b[0m \u001b[39melse\u001b[39;00m:\n\u001b[0;32m----> 7\u001b[0m     error(\u001b[39m'\u001b[39;49m\u001b[39mTabela nao encontrada\u001b[39;49m\u001b[39m'\u001b[39;49m)\n",
      "Cell \u001b[0;32mIn[3], line 4\u001b[0m, in \u001b[0;36merror\u001b[0;34m(error_message)\u001b[0m\n\u001b[1;32m      2\u001b[0m current_date \u001b[39m=\u001b[39m datetime\u001b[39m.\u001b[39mdatetime\u001b[39m.\u001b[39mnow()\u001b[39m.\u001b[39mstrftime(\u001b[39m\"\u001b[39m\u001b[39m%\u001b[39m\u001b[39mY-\u001b[39m\u001b[39m%\u001b[39m\u001b[39mm-\u001b[39m\u001b[39m%d\u001b[39;00m\u001b[39m \u001b[39m\u001b[39m%\u001b[39m\u001b[39mH:\u001b[39m\u001b[39m%\u001b[39m\u001b[39mM:\u001b[39m\u001b[39m%\u001b[39m\u001b[39mS\u001b[39m\u001b[39m\"\u001b[39m)\n\u001b[1;32m      3\u001b[0m message \u001b[39m=\u001b[39m \u001b[39mf\u001b[39m\u001b[39m'\u001b[39m\u001b[39m{\u001b[39;00merror_message\u001b[39m}\u001b[39;00m\u001b[39m \u001b[39m\u001b[39m{\u001b[39;00mcurrent_date\u001b[39m}\u001b[39;00m\u001b[39m'\u001b[39m\n\u001b[0;32m----> 4\u001b[0m plyer\u001b[39m.\u001b[39;49mnotification\u001b[39m.\u001b[39;49mnotify(\n\u001b[1;32m      5\u001b[0m     title\u001b[39m=\u001b[39;49m\u001b[39m'\u001b[39;49m\u001b[39mError\u001b[39;49m\u001b[39m'\u001b[39;49m,\n\u001b[1;32m      6\u001b[0m     message\u001b[39m=\u001b[39;49mmessage,\n\u001b[1;32m      7\u001b[0m     app_name\u001b[39m=\u001b[39;49m\u001b[39m\"\u001b[39;49m\u001b[39mAlerta\u001b[39;49m\u001b[39m\"\u001b[39;49m\n\u001b[1;32m      8\u001b[0m )\n",
      "File \u001b[0;32m/Library/Frameworks/Python.framework/Versions/3.11/lib/python3.11/site-packages/plyer/facades/notification.py:84\u001b[0m, in \u001b[0;36mNotification.notify\u001b[0;34m(self, title, message, app_name, app_icon, timeout, ticker, toast, hints)\u001b[0m\n\u001b[1;32m     48\u001b[0m \u001b[39mdef\u001b[39;00m \u001b[39mnotify\u001b[39m(\u001b[39mself\u001b[39m, title\u001b[39m=\u001b[39m\u001b[39m'\u001b[39m\u001b[39m'\u001b[39m, message\u001b[39m=\u001b[39m\u001b[39m'\u001b[39m\u001b[39m'\u001b[39m, app_name\u001b[39m=\u001b[39m\u001b[39m'\u001b[39m\u001b[39m'\u001b[39m, app_icon\u001b[39m=\u001b[39m\u001b[39m'\u001b[39m\u001b[39m'\u001b[39m,\n\u001b[1;32m     49\u001b[0m            timeout\u001b[39m=\u001b[39m\u001b[39m10\u001b[39m, ticker\u001b[39m=\u001b[39m\u001b[39m'\u001b[39m\u001b[39m'\u001b[39m, toast\u001b[39m=\u001b[39m\u001b[39mFalse\u001b[39;00m, hints\u001b[39m=\u001b[39m{}):\n\u001b[1;32m     50\u001b[0m \u001b[39m    \u001b[39m\u001b[39m'''\u001b[39;00m\n\u001b[1;32m     51\u001b[0m \u001b[39m    Send a notification.\u001b[39;00m\n\u001b[1;32m     52\u001b[0m \n\u001b[0;32m   (...)\u001b[0m\n\u001b[1;32m     81\u001b[0m \u001b[39m       Add 'toast' keyword argument\u001b[39;00m\n\u001b[1;32m     82\u001b[0m \u001b[39m    '''\u001b[39;00m\n\u001b[0;32m---> 84\u001b[0m     \u001b[39mself\u001b[39;49m\u001b[39m.\u001b[39;49m_notify(\n\u001b[1;32m     85\u001b[0m         title\u001b[39m=\u001b[39;49mtitle, message\u001b[39m=\u001b[39;49mmessage,\n\u001b[1;32m     86\u001b[0m         app_icon\u001b[39m=\u001b[39;49mapp_icon, app_name\u001b[39m=\u001b[39;49mapp_name,\n\u001b[1;32m     87\u001b[0m         timeout\u001b[39m=\u001b[39;49mtimeout, ticker\u001b[39m=\u001b[39;49mticker, toast\u001b[39m=\u001b[39;49mtoast, hints\u001b[39m=\u001b[39;49mhints\n\u001b[1;32m     88\u001b[0m     )\n",
      "File \u001b[0;32m/Library/Frameworks/Python.framework/Versions/3.11/lib/python3.11/site-packages/plyer/facades/notification.py:93\u001b[0m, in \u001b[0;36mNotification._notify\u001b[0;34m(self, **kwargs)\u001b[0m\n\u001b[1;32m     92\u001b[0m \u001b[39mdef\u001b[39;00m \u001b[39m_notify\u001b[39m(\u001b[39mself\u001b[39m, \u001b[39m*\u001b[39m\u001b[39m*\u001b[39mkwargs):\n\u001b[0;32m---> 93\u001b[0m     \u001b[39mraise\u001b[39;00m \u001b[39mNotImplementedError\u001b[39;00m(\u001b[39m\"\u001b[39m\u001b[39mNo usable implementation found!\u001b[39m\u001b[39m\"\u001b[39m)\n",
      "\u001b[0;31mNotImplementedError\u001b[0m: No usable implementation found!"
     ]
    }
   ],
   "source": [
    "url = 'https://restcountries.com/v3.1/capital'\n",
    "table = get_tables(url)\n",
    "capital_df = pd.DataFrame(table)\n",
    "capital_df['country'] = capital_df['name'].apply(lambda x: x['common'])\n",
    "capital_df = capital_df[['country', 'capital', 'area', 'population']]\n",
    "df_filled = capital_df.fillna('')\n",
    "print(capital_df)"
   ]
  },
  {
   "cell_type": "code",
   "execution_count": null,
   "metadata": {},
   "outputs": [],
   "source": [
    "url = 'https://restcountries.com/v3.1/region/europe'\n",
    "get_tables(url)"
   ]
  }
 ],
 "metadata": {
  "kernelspec": {
   "display_name": "Python 3",
   "language": "python",
   "name": "python3"
  },
  "language_info": {
   "codemirror_mode": {
    "name": "ipython",
    "version": 3
   },
   "file_extension": ".py",
   "mimetype": "text/x-python",
   "name": "python",
   "nbconvert_exporter": "python",
   "pygments_lexer": "ipython3",
   "version": "3.11.8"
  },
  "orig_nbformat": 4,
  "vscode": {
   "interpreter": {
    "hash": "aee8b7b246df8f9039afb4144a1f6fd8d2ca17a180786b69acc140d282b71a49"
   }
  }
 },
 "nbformat": 4,
 "nbformat_minor": 2
}
