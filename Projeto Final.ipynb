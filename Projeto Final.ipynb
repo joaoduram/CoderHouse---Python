{
 "cells": [
  {
   "cell_type": "code",
   "execution_count": 1,
   "metadata": {},
   "outputs": [
    {
     "name": "stdout",
     "output_type": "stream",
     "text": [
      "Requirement already satisfied: pandas in /Library/Frameworks/Python.framework/Versions/3.11/lib/python3.11/site-packages (2.2.1)\n",
      "Requirement already satisfied: numpy<2,>=1.23.2 in /Library/Frameworks/Python.framework/Versions/3.11/lib/python3.11/site-packages (from pandas) (1.26.4)\n",
      "Requirement already satisfied: python-dateutil>=2.8.2 in /Library/Frameworks/Python.framework/Versions/3.11/lib/python3.11/site-packages (from pandas) (2.9.0.post0)\n",
      "Requirement already satisfied: pytz>=2020.1 in /Library/Frameworks/Python.framework/Versions/3.11/lib/python3.11/site-packages (from pandas) (2024.1)\n",
      "Requirement already satisfied: tzdata>=2022.7 in /Library/Frameworks/Python.framework/Versions/3.11/lib/python3.11/site-packages (from pandas) (2024.1)\n",
      "Requirement already satisfied: six>=1.5 in /Library/Frameworks/Python.framework/Versions/3.11/lib/python3.11/site-packages (from python-dateutil>=2.8.2->pandas) (1.16.0)\n",
      "Requirement already satisfied: requests in /Library/Frameworks/Python.framework/Versions/3.11/lib/python3.11/site-packages (2.31.0)\n",
      "Requirement already satisfied: charset-normalizer<4,>=2 in /Library/Frameworks/Python.framework/Versions/3.11/lib/python3.11/site-packages (from requests) (3.3.2)\n",
      "Requirement already satisfied: idna<4,>=2.5 in /Library/Frameworks/Python.framework/Versions/3.11/lib/python3.11/site-packages (from requests) (3.6)\n",
      "Requirement already satisfied: urllib3<3,>=1.21.1 in /Library/Frameworks/Python.framework/Versions/3.11/lib/python3.11/site-packages (from requests) (2.2.1)\n",
      "Requirement already satisfied: certifi>=2017.4.17 in /Library/Frameworks/Python.framework/Versions/3.11/lib/python3.11/site-packages (from requests) (2024.2.2)\n",
      "Requirement already satisfied: plyer in /Library/Frameworks/Python.framework/Versions/3.11/lib/python3.11/site-packages (2.1.0)\n"
     ]
    }
   ],
   "source": [
    "! pip install pandas\n",
    "! pip install requests\n",
    "! pip install plyer \n"
   ]
  },
  {
   "cell_type": "code",
   "execution_count": 2,
   "metadata": {},
   "outputs": [],
   "source": [
    "import pandas as pd\n",
    "import requests as rq\n",
    "import plyer \n",
    "import datetime\n",
    "import sqlite3"
   ]
  },
  {
   "cell_type": "code",
   "execution_count": 3,
   "metadata": {},
   "outputs": [],
   "source": [
    "def error(error_message):\n",
    "    current_date = datetime.datetime.now().strftime(\"%Y-%m-%d %H:%M:%S\")\n",
    "    message = f'{error_message} {current_date}'\n",
    "    plyer.notification.notify(\n",
    "        title='Error',\n",
    "        message=message,\n",
    "        app_name=\"Alerta\"\n",
    "    )"
   ]
  },
  {
   "cell_type": "code",
   "execution_count": 4,
   "metadata": {},
   "outputs": [],
   "source": [
    "def get_response(url):\n",
    "    response = rq.get(url)\n",
    "    if response.status_code == 200:\n",
    "        data_json = response.json()\n",
    "        return data_json\n",
    "    else:\n",
    "        error('Tabela nao encontrada')"
   ]
  },
  {
   "cell_type": "code",
   "execution_count": 5,
   "metadata": {},
   "outputs": [],
   "source": [
    "def get_tables(url):\n",
    "    response = get_response(url)\n",
    "    return response"
   ]
  },
  {
   "cell_type": "code",
   "execution_count": 172,
   "metadata": {},
   "outputs": [],
   "source": [
    "def create_df(data, columns):\n",
    "    if data is None or not columns:\n",
    "        return pd.DataFrame()\n",
    "\n",
    "    df = pd.DataFrame(data)\n",
    "    df['country'] = df['name'].apply(lambda x: x.get('common', ''))\n",
    "\n",
    "    # Verificar se 'capital' está presente antes de acessá-lo\n",
    "    if 'capital' in df.columns:\n",
    "        df['capital'] = df['capital'].apply(lambda x: x[0] if isinstance(x, list) and len(x) > 0 else x)\n",
    "\n",
    "    df = df[columns]\n",
    "\n",
    "    # Limpar valores nulos\n",
    "    df_cleaned = df.dropna()\n",
    "\n",
    "    return df_cleaned"
   ]
  },
  {
   "cell_type": "code",
   "execution_count": 7,
   "metadata": {},
   "outputs": [],
   "source": [
    "def filter_df(df, min_population):\n",
    "    return df[df['population'] > min_population]"
   ]
  },
  {
   "cell_type": "code",
   "execution_count": 8,
   "metadata": {},
   "outputs": [],
   "source": [
    "def unstack_df(df, index_col):\n",
    "    return df.set_index(index_col).unstack()"
   ]
  },
  {
   "attachments": {},
   "cell_type": "markdown",
   "metadata": {},
   "source": [
    "CRIANDO TABELA DOS PAISES"
   ]
  },
  {
   "cell_type": "code",
   "execution_count": 182,
   "metadata": {},
   "outputs": [],
   "source": [
    "def create_table_countries(data, nome_tabela):\n",
    "    df = pd.DataFrame(data)\n",
    "    df.columns = df.columns.astype(str)\n",
    "    conn = sqlite3.connect('dados_paises.db')\n",
    "    cursor = conn.cursor()\n",
    "    colunas_str = ', '.join([f'\"{coluna}\"' for coluna in df.columns])\n",
    "    cursor.execute(f'CREATE TABLE IF NOT EXISTS \"{nome_tabela}\" ({colunas_str})')\n",
    "\n",
    "    for index, row in df.iterrows():\n",
    "        values = ', '.join([f'\"{str(row[coluna])}\"' for coluna in df.columns])\n",
    "        cursor.execute(f'INSERT INTO \"{nome_tabela}\" VALUES ({values})')\n",
    "\n",
    "    conn.commit()\n",
    "    conn.close()"
   ]
  },
  {
   "cell_type": "code",
   "execution_count": 191,
   "metadata": {},
   "outputs": [],
   "source": [
    "def get_countries():\n",
    "    url = 'https://restcountries.com/v3.1/all?fields=name,capital,region,subregion,area,population'\n",
    "    data = get_response(url)\n",
    "    df = create_df(data,['country','capital','region','subregion','area','population'])\n",
    "    print(df)\n",
    "        \n",
    "    #df_filtered = filter_df(df, 0)\n",
    "    #print(f\"{key} DataFrame (filtered):\")\n",
    "    #print(df_filtered)\n",
    "        \n",
    "    df_unstacked = unstack_df(df, 'country')\n",
    "    print(df_unstacked)\n",
    "    create_table_countries(df, 'Paises')\n",
    "    "
   ]
  },
  {
   "attachments": {},
   "cell_type": "markdown",
   "metadata": {},
   "source": [
    "CRIANDO TABELA DOS PAISES INDEPENDENTES\n"
   ]
  },
  {
   "cell_type": "code",
   "execution_count": 214,
   "metadata": {},
   "outputs": [],
   "source": [
    "def get_independent_countries():\n",
    "    url = 'https://restcountries.com/v3.1/independent?status=true&fields=name,capital,region,subregion,area,population'\n",
    "    data = get_response(url)\n",
    "    df = create_df(data,['country','capital','region','subregion','area','population'])\n",
    "    print(df)\n",
    "        \n",
    "    #df_filtered = filter_df(df, 0)\n",
    "    #print(f\"{key} DataFrame (filtered):\")\n",
    "    #print(df_filtered)\n",
    "        \n",
    "    df_unstacked = unstack_df(df, 'country')\n",
    "    print(df_unstacked)\n",
    "    create_table_countries(df, 'Independentes')\n",
    "    "
   ]
  },
  {
   "cell_type": "code",
   "execution_count": 212,
   "metadata": {},
   "outputs": [],
   "source": [
    "def create_table_independenty_countries(data, nome_tabela):\n",
    "    # Converter a série em um DataFrame\n",
    "    df = pd.DataFrame(data)\n",
    "\n",
    "    # Converter o nome das colunas para strings\n",
    "    df.columns = df.columns.astype(str)\n",
    "\n",
    "    # Conectar ao banco de dados SQLite\n",
    "    conn = sqlite3.connect('dados_paises.db')\n",
    "    cursor = conn.cursor()\n",
    "\n",
    "    # Criar a tabela no banco de dados com o nome entre aspas duplas\n",
    "    colunas_str = ', '.join([f'\"{coluna}\"' for coluna in df.columns])\n",
    "    cursor.execute(f'CREATE TABLE IF NOT EXISTS \"{nome_tabela}\" ({colunas_str})')\n",
    "\n",
    "    # Inserir os dados do DataFrame na tabela\n",
    "    for index, row in df.iterrows():\n",
    "        values = ', '.join([f'\"{str(row[coluna])}\"' for coluna in df.columns])\n",
    "        cursor.execute(f'INSERT INTO \"{nome_tabela}\" VALUES ({values})')\n",
    "\n",
    "    # Commitar as alterações e fechar a conexão\n",
    "    conn.commit()\n",
    "    conn.close()"
   ]
  },
  {
   "attachments": {},
   "cell_type": "markdown",
   "metadata": {},
   "source": [
    "CRIANDO TABELA DAS LINGUAS\n"
   ]
  },
  {
   "cell_type": "code",
   "execution_count": 208,
   "metadata": {},
   "outputs": [],
   "source": [
    "def create_table_languages_countries(languages_countries):\n",
    "    if languages_countries:\n",
    "        conn = sqlite3.connect('dados_paises.db')\n",
    "        cursor = conn.cursor()\n",
    "        cursor.execute('''CREATE TABLE IF NOT EXISTS Linguas\n",
    "                          (Language TEXT, Country TEXT)''')\n",
    "        \n",
    "        for language, countries in languages_countries.items():\n",
    "            for country in countries:\n",
    "                cursor.execute(\"INSERT INTO Linguas (Language, Country) VALUES (?, ?)\", (language, country))\n",
    "        \n",
    "        conn.commit()\n",
    "        conn.close()\n",
    "        print(\"Table 'LanguagesCountries' created and populated successfully.\")\n",
    "    else:\n",
    "        print(\"Failed to create table. No data retrieved.\")"
   ]
  },
  {
   "cell_type": "code",
   "execution_count": 209,
   "metadata": {},
   "outputs": [],
   "source": [
    "def get_languages_countries():\n",
    "    url = 'https://restcountries.com/v3.1/all?fields=name,languages'\n",
    "    response = get_tables(url)\n",
    "    languages_countries = {}\n",
    "    for country_data in data:\n",
    "        country_name = country_data.get('name', {}).get('common', '')\n",
    "        languages_info = country_data.get('languages', {})\n",
    "        if isinstance(languages_info, dict):  # Check if languages_info is a dictionary\n",
    "            for language_code, language_info in languages_info.items():\n",
    "                if isinstance(language_info, dict):  # Check if language_info is a dictionary\n",
    "                    language_name = language_info.get('name', '')\n",
    "                    if language_name:\n",
    "                        languages_countries.setdefault(language_name, []).append(country_name)\n",
    "                else:\n",
    "                    languages_countries.setdefault(language_info, []).append(country_name)\n",
    "        else:\n",
    "            print(f\"Failed to fetch data: {response.status_code}\")\n",
    "            return None\n",
    "    create_table_languages_countries(languages_countries)"
   ]
  },
  {
   "cell_type": "code",
   "execution_count": 215,
   "metadata": {},
   "outputs": [
    {
     "name": "stdout",
     "output_type": "stream",
     "text": [
      "                country           capital    region       subregion  \\\n",
      "0               Moldova          Chișinău    Europe  Eastern Europe   \n",
      "1         United States  Washington, D.C.  Americas   North America   \n",
      "2               Mayotte         Mamoudzou    Africa  Eastern Africa   \n",
      "3                 Nauru             Yaren   Oceania      Micronesia   \n",
      "4            Mozambique            Maputo    Africa  Eastern Africa   \n",
      "..                  ...               ...       ...             ...   \n",
      "245               Benin        Porto-Novo    Africa  Western Africa   \n",
      "246               Japan             Tokyo      Asia    Eastern Asia   \n",
      "247  Dominican Republic     Santo Domingo  Americas       Caribbean   \n",
      "248               Qatar              Doha      Asia    Western Asia   \n",
      "249               Gabon        Libreville    Africa   Middle Africa   \n",
      "\n",
      "          area  population  \n",
      "0      33846.0     2617820  \n",
      "1    9372610.0   329484123  \n",
      "2        374.0      226915  \n",
      "3         21.0       10834  \n",
      "4     801590.0    31255435  \n",
      "..         ...         ...  \n",
      "245   112622.0    12123198  \n",
      "246   377930.0   125836021  \n",
      "247    48671.0    10847904  \n",
      "248    11586.0     2881060  \n",
      "249   267668.0     2225728  \n",
      "\n",
      "[250 rows x 6 columns]\n",
      "            country           \n",
      "capital     Moldova                       Chișinău\n",
      "            United States         Washington, D.C.\n",
      "            Mayotte                      Mamoudzou\n",
      "            Nauru                            Yaren\n",
      "            Mozambique                      Maputo\n",
      "                                        ...       \n",
      "population  Benin                         12123198\n",
      "            Japan                        125836021\n",
      "            Dominican Republic            10847904\n",
      "            Qatar                          2881060\n",
      "            Gabon                          2225728\n",
      "Length: 1250, dtype: object\n",
      "Table 'LanguagesCountries' created and populated successfully.\n",
      "                country           capital    region       subregion  \\\n",
      "0               Moldova          Chișinău    Europe  Eastern Europe   \n",
      "1         United States  Washington, D.C.  Americas   North America   \n",
      "2                 Nauru             Yaren   Oceania      Micronesia   \n",
      "3            Mozambique            Maputo    Africa  Eastern Africa   \n",
      "4                Brazil          Brasília  Americas   South America   \n",
      "..                  ...               ...       ...             ...   \n",
      "189               Benin        Porto-Novo    Africa  Western Africa   \n",
      "190               Japan             Tokyo      Asia    Eastern Asia   \n",
      "191  Dominican Republic     Santo Domingo  Americas       Caribbean   \n",
      "192               Qatar              Doha      Asia    Western Asia   \n",
      "193               Gabon        Libreville    Africa   Middle Africa   \n",
      "\n",
      "          area  population  \n",
      "0      33846.0     2617820  \n",
      "1    9372610.0   329484123  \n",
      "2         21.0       10834  \n",
      "3     801590.0    31255435  \n",
      "4    8515767.0   212559409  \n",
      "..         ...         ...  \n",
      "189   112622.0    12123198  \n",
      "190   377930.0   125836021  \n",
      "191    48671.0    10847904  \n",
      "192    11586.0     2881060  \n",
      "193   267668.0     2225728  \n",
      "\n",
      "[194 rows x 6 columns]\n",
      "            country           \n",
      "capital     Moldova                       Chișinău\n",
      "            United States         Washington, D.C.\n",
      "            Nauru                            Yaren\n",
      "            Mozambique                      Maputo\n",
      "            Brazil                        Brasília\n",
      "                                        ...       \n",
      "population  Benin                         12123198\n",
      "            Japan                        125836021\n",
      "            Dominican Republic            10847904\n",
      "            Qatar                          2881060\n",
      "            Gabon                          2225728\n",
      "Length: 970, dtype: object\n"
     ]
    }
   ],
   "source": [
    "def main():\n",
    "    get_countries()\n",
    "    get_languages_countries()\n",
    "    get_independent_countries()\n",
    "main()"
   ]
  }
 ],
 "metadata": {
  "kernelspec": {
   "display_name": "Python 3",
   "language": "python",
   "name": "python3"
  },
  "language_info": {
   "codemirror_mode": {
    "name": "ipython",
    "version": 3
   },
   "file_extension": ".py",
   "mimetype": "text/x-python",
   "name": "python",
   "nbconvert_exporter": "python",
   "pygments_lexer": "ipython3",
   "version": "3.11.8"
  },
  "orig_nbformat": 4,
  "vscode": {
   "interpreter": {
    "hash": "aee8b7b246df8f9039afb4144a1f6fd8d2ca17a180786b69acc140d282b71a49"
   }
  }
 },
 "nbformat": 4,
 "nbformat_minor": 2
}
