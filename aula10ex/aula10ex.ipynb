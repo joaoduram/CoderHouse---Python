{
 "cells": [
  {
   "cell_type": "code",
   "execution_count": 25,
   "metadata": {},
   "outputs": [
    {
     "name": "stdout",
     "output_type": "stream",
     "text": [
      "Index(['Console Name', 'Type', 'Company', 'Released Year',\n",
      "       'Discontinuation Year', 'Units sold (million)', 'Remarks'],\n",
      "      dtype='object')\n",
      "Company\n",
      "Nintendo                   17\n",
      "Sony                        7\n",
      "Sega                        7\n",
      "Microsoft                   4\n",
      "Atari                       4\n",
      "Tectoy                      2\n",
      "Coleco                      2\n",
      "NEC/Hudson Soft[note 6]     1\n",
      "Micro Genius                1\n",
      "Bandai                      1\n",
      "Mattel                      1\n",
      "Nokia                       1\n",
      "Magnavox/Philips            1\n",
      "NEC                         1\n",
      "Philips                     1\n",
      "Name: count, dtype: int64\n"
     ]
    }
   ],
   "source": [
    "import pandas as pd\n",
    "\n",
    "# Carregar o arquivo Excel\n",
    "file = 'best-selling game consoles.xlsx'\n",
    "df = pd.read_excel(file)\n",
    "print(df.columns)\n",
    "\n",
    "if 'Company' in df.columns:\n",
    "    count_companys = df['Company'].value_counts()\n",
    "    print(count_companys)\n"
   ]
  },
  {
   "cell_type": "code",
   "execution_count": 26,
   "metadata": {},
   "outputs": [
    {
     "name": "stdout",
     "output_type": "stream",
     "text": [
      "Company\n",
      "Nintendo                   17\n",
      "Sony                        7\n",
      "Sega                        7\n",
      "Microsoft                   4\n",
      "Atari                       4\n",
      "Tectoy                      2\n",
      "Coleco                      2\n",
      "NEC/Hudson Soft[note 6]     1\n",
      "Micro Genius                1\n",
      "Bandai                      1\n",
      "Mattel                      1\n",
      "Nokia                       1\n",
      "Magnavox/Philips            1\n",
      "NEC                         1\n",
      "Philips                     1\n",
      "Name: count, dtype: int64\n"
     ]
    }
   ],
   "source": [
    "count_companys_sorted = count_companys.sort_values(ascending=False)\n",
    "print(count_companys_sorted)"
   ]
  },
  {
   "cell_type": "code",
   "execution_count": 43,
   "metadata": {},
   "outputs": [
    {
     "name": "stdout",
     "output_type": "stream",
     "text": [
      "                    Company  count         Company,Market Value Market Value\n",
      "0                  Nintendo     17               Nintendo,22615        22615\n",
      "1                      Sony      7                    Sony,7177         7177\n",
      "2                      Sega      7                   Sega,10391        10391\n",
      "3                 Microsoft      4               Microsoft,3154         3154\n",
      "4                     Atari      4                   Atari,4160         4160\n",
      "5                    Tectoy      2                  Tectoy,2538         2538\n",
      "6                    Coleco      2                   Coleco,767          767\n",
      "7   NEC/Hudson Soft[note 6]      1  NEC/Hudson Soft[note 6],547          547\n",
      "8              Micro Genius      1             Micro Genius,689          689\n",
      "9                    Bandai      1                   Bandai,913          913\n",
      "10                   Mattel      1                   Mattel,548          548\n",
      "11                    Nokia      1                    Nokia,637          637\n",
      "12         Magnavox/Philips      1         Magnavox/Philips,693          693\n",
      "13                      NEC      1                      NEC,387          387\n",
      "14                  Philips      1                  Philips,899          899\n"
     ]
    }
   ],
   "source": [
    "txt_file = 'company.txt'\n",
    "df_market_value = pd.read_csv(txt_file, delimiter='\\t')\n",
    "\n",
    "df_market_value[['Company', 'Market Value']] = df_market_value['Company,Market Value'].str.split(',', expand=True)\n",
    "df_merged = pd.merge(count_companys_sorted, df_market_value , on='Company', how='left')\n",
    "print(df_merged)"
   ]
  }
 ],
 "metadata": {
  "kernelspec": {
   "display_name": "Python 3",
   "language": "python",
   "name": "python3"
  },
  "language_info": {
   "codemirror_mode": {
    "name": "ipython",
    "version": 3
   },
   "file_extension": ".py",
   "mimetype": "text/x-python",
   "name": "python",
   "nbconvert_exporter": "python",
   "pygments_lexer": "ipython3",
   "version": "3.11.8"
  },
  "orig_nbformat": 4,
  "vscode": {
   "interpreter": {
    "hash": "aee8b7b246df8f9039afb4144a1f6fd8d2ca17a180786b69acc140d282b71a49"
   }
  }
 },
 "nbformat": 4,
 "nbformat_minor": 2
}
